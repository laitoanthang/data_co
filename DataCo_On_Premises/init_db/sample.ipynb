{
 "cells": [
  {
   "cell_type": "code",
   "execution_count": 1,
   "metadata": {},
   "outputs": [],
   "source": [
    "import sys\n",
    "import pandas as pd\n",
    "import config as cf\n",
    "\n",
    "sys.path.append(r'C:\\Users\\Admin\\OneDrive - VNU-HCMUS\\_AI23\\Sharepoint\\DataCo_DWH\\dataset')"
   ]
  },
  {
   "cell_type": "code",
   "execution_count": null,
   "metadata": {},
   "outputs": [],
   "source": [
    "# Sample for appending data\n",
    "data = {\n",
    "    'Type': 'DEBIT',\n",
    "    'Days for shipping (real)': 2,\n",
    "    'Days for shipment (scheduled)': 4,\n",
    "    'Benefit per order': 213.690002,\n",
    "    'Sales per customer': 436.100006,\n",
    "    'Delivery Status': 'Advance shipping',\n",
    "    'Late_delivery_risk': 0,\n",
    "    'Category Id': '66',\n",
    "    'Category Name': 'Crafts',\n",
    "    'Customer City': 'Palatine',\n",
    "    'Customer Country': 'EE. UU.',\n",
    "    'Customer Email': 'XXXXXXXXX',\n",
    "    'Customer Fname': 'Contreras',\n",
    "    'Customer Id': '14909',\n",
    "    'Customer Lname': '',\n",
    "    'Customer Password': 'XXXXXXXXX',\n",
    "    'Customer Segment': 'Corporate',\n",
    "    'Customer State': 'IL',\n",
    "    'Customer Street': '2407 Dusty Mount',\n",
    "    'Customer Zipcode': '60067.0',\n",
    "    'Department Id': '4',\n",
    "    'Department Name': 'Apparel',\n",
    "    'Latitude': 42.110535,\n",
    "    'Longitude': -88.102402,\n",
    "    'Market': 'Europe',\n",
    "    'Order City': 'Estocolmo',\n",
    "    'Order Country': 'Suecia',\n",
    "    'Order Customer Id': '14909',\n",
    "    'Order Date': '11/7/2017 14:50',\n",
    "    'Order Id': '71356',\n",
    "    'Order Item Cardprod Id': '1353',\n",
    "    'Order Item Discount': 25.379999,\n",
    "    'Order Item Discount Rate': 0.06,\n",
    "    'Order Item Id': '174671',\n",
    "    'Order Item Product Price': 461.480011,\n",
    "    'Order Item Profit Ratio': 0.49,\n",
    "    'Order Item Quantity': 1,\n",
    "    'Sales': 461.480011,\n",
    "    'Order Item Total': 436.100006,\n",
    "    'Order Profit Per Order': 213.690002,\n",
    "    'Order Region': 'Northern Europe',\n",
    "    'Order State': 'Estocolmo',\n",
    "    'Order Status': 'COMPLETE',\n",
    "    'Order Zipcode': '',\n",
    "    'Product Card Id': '1353',\n",
    "    'Product Category Id': '66',\n",
    "    'Product Description': '',\n",
    "    'Product Image': 'http://images.acmesports.sports/Porcelain+crafts',\n",
    "    'Product Name': 'Porcelain crafts',\n",
    "    'Product Price': 461.480011,\n",
    "    'Product Status': '0',\n",
    "    'Shipping Date': '11/9/2017 14:50',\n",
    "    'Shipping Mode': 'Standard Class'\n",
    "}\n",
    "\n",
    "# Create a DataFrame from the provided data\n",
    "orders = pd.DataFrame(data, index=[0])\n",
    "\n",
    "# Replace NaN with empty strings\n",
    "orders.fillna('', inplace=True)\n",
    "\n",
    "# Create a connection to the database\n",
    "conn, cursor = cf.create_connection(server='LAPTOPNAYCUATIE', username='', password='', database='DB_staging')\n",
    "\n",
    "# Prepare the data for insertion\n",
    "data = [tuple(orders.values[0])]\n",
    "\n",
    "# Execute the stored procedure to insert the data\n",
    "try:\n",
    "    cursor.executemany(\"EXEC sp_insert_datacoorders ?, ?, ?, ?, ?, ?, ?, ?, ?, ?, ?, ?, ?, ?, ?, ?, ?, ?, ?, ?, ?, ?, ?, ?, ?, ?, ?, ?, ?, ?, ?, ?, ?, ?, ?, ?, ?, ?, ?, ?, ?, ?, ?, ?, ?, ?, ?, ?, ?, ?, ?, ?, ?\", data)\n",
    "    print(\"Insertion successful.\")\n",
    "except Exception as e:\n",
    "    print(\"Insertion failed:\", e)\n",
    "\n",
    "# Commit and close resources\n",
    "conn.commit()\n",
    "cursor.close()\n",
    "conn.close()\n"
   ]
  },
  {
   "cell_type": "code",
   "execution_count": null,
   "metadata": {},
   "outputs": [],
   "source": []
  },
  {
   "cell_type": "code",
   "execution_count": null,
   "metadata": {},
   "outputs": [],
   "source": []
  },
  {
   "cell_type": "code",
   "execution_count": null,
   "metadata": {},
   "outputs": [],
   "source": []
  },
  {
   "cell_type": "code",
   "execution_count": 19,
   "metadata": {},
   "outputs": [],
   "source": [
    "# #create connection\n",
    "# conn, cursor = cf.create_connection(server='LAPTOP-TL' , username='sa' , password='Laitoanthang219!' , database='dataco_staging')\n"
   ]
  },
  {
   "cell_type": "code",
   "execution_count": null,
   "metadata": {},
   "outputs": [],
   "source": []
  },
  {
   "cell_type": "code",
   "execution_count": null,
   "metadata": {},
   "outputs": [],
   "source": []
  },
  {
   "cell_type": "code",
   "execution_count": null,
   "metadata": {},
   "outputs": [],
   "source": []
  },
  {
   "cell_type": "code",
   "execution_count": null,
   "metadata": {},
   "outputs": [],
   "source": [
    "\n",
    "# # Connect to SQL Server\n",
    "# try:\n",
    "#     cnxn = pyodbc.connect(connection_string)\n",
    "#     cursor = cnxn.cursor()\n",
    "\n",
    "#     # Step 1: Call the stored procedure to insert data\n",
    "#     try:\n",
    "#         # Define the parameters for the stored procedure\n",
    "#         column1_value = 'Value1'\n",
    "#         column2_value = 'Value2'\n",
    "#         column3_value = 'Value3'\n",
    "\n",
    "#         # Execute the stored procedure\n",
    "#         cursor.execute(\"{CALL InsertIntoYourTable (?, ?, ?)}\", (column1_value, column2_value, column3_value))\n",
    "#         cnxn.commit()  # Commit the transaction\n",
    "\n",
    "#         print(\"Data inserted successfully.\")\n",
    "#     except Exception as e:\n",
    "#         print(f\"An error occurred during insertion: {e}\")\n",
    "#     finally:\n",
    "#         cursor.close()\n",
    "\n",
    "#     # Step 2: Read data from the table into a pandas DataFrame\n",
    "#     query = \"SELECT * FROM YourTableName\"\n",
    "#     df = pd.read_sql(query, cnxn)\n",
    "\n",
    "#     # Print the DataFrame to see the data\n",
    "#     print(df)\n",
    "\n",
    "# except Exception as e:\n",
    "#     print(f\"An error occurred while connecting to SQL Server: {e}\")\n",
    "\n",
    "# finally:\n",
    "#     # Close the connection if it was established\n",
    "#     if 'cnxn' in locals():\n",
    "#         cnxn.close()"
   ]
  },
  {
   "cell_type": "code",
   "execution_count": null,
   "metadata": {},
   "outputs": [
    {
     "name": "stdout",
     "output_type": "stream",
     "text": [
      "Total time taken: 3.44 seconds\n"
     ]
    }
   ],
   "source": []
  }
 ],
 "metadata": {
  "kernelspec": {
   "display_name": "base",
   "language": "python",
   "name": "python3"
  },
  "language_info": {
   "codemirror_mode": {
    "name": "ipython",
    "version": 3
   },
   "file_extension": ".py",
   "mimetype": "text/x-python",
   "name": "python",
   "nbconvert_exporter": "python",
   "pygments_lexer": "ipython3",
   "version": "3.9.13"
  }
 },
 "nbformat": 4,
 "nbformat_minor": 2
}
